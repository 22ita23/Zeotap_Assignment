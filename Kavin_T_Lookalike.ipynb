{
  "nbformat": 4,
  "nbformat_minor": 0,
  "metadata": {
    "colab": {
      "provenance": []
    },
    "kernelspec": {
      "name": "python3",
      "display_name": "Python 3"
    },
    "language_info": {
      "name": "python"
    }
  },
  "cells": [
    {
      "cell_type": "code",
      "execution_count": 1,
      "metadata": {
        "colab": {
          "base_uri": "https://localhost:8080/"
        },
        "id": "Z0tC2OeEE-f3",
        "outputId": "4368db34-3cea-4a15-b3f5-bedc784cc1d0"
      },
      "outputs": [
        {
          "output_type": "stream",
          "name": "stdout",
          "text": [
            "Lookalike recommendations saved to Kavin_T_Lookalike.csv.\n"
          ]
        }
      ],
      "source": [
        "import pandas as pd\n",
        "from sklearn.preprocessing import MinMaxScaler\n",
        "from sklearn.metrics.pairwise import cosine_similarity\n",
        "\n",
        "# Load data\n",
        "customers_url = \"https://drive.google.com/uc?id=1bu_--mo79VdUG9oin4ybfFGRUSXAe-WE\"\n",
        "products_url = \"https://drive.google.com/uc?id=1IKuDizVapw-hyktwfpoAoaGtHtTNHfd0\"\n",
        "transactions_url = \"https://drive.google.com/uc?id=1saEqdbBB-vuk2hxoAf4TzDEsykdKlzbF\"\n",
        "\n",
        "customers = pd.read_csv(customers_url)\n",
        "products = pd.read_csv(products_url)\n",
        "transactions = pd.read_csv(transactions_url)\n",
        "\n",
        "# Step 1: Data Preprocessing\n",
        "# Aggregate transaction data\n",
        "transactions_agg = transactions.groupby('CustomerID').agg(\n",
        "    TotalSpend=('TotalValue', 'sum'),\n",
        "    AvgTransactionValue=('TotalValue', 'mean'),\n",
        "    PurchaseFrequency=('TransactionID', 'count')\n",
        ").reset_index()\n",
        "\n",
        "# Merge with customer data\n",
        "customer_profile = pd.merge(customers, transactions_agg, on='CustomerID', how='left')\n",
        "\n",
        "# Fill missing values (if any) with 0\n",
        "customer_profile.fillna(0, inplace=True)\n",
        "\n",
        "# Step 2: Feature Selection\n",
        "# Select relevant features for similarity calculation\n",
        "features = ['TotalSpend', 'AvgTransactionValue', 'PurchaseFrequency']\n",
        "\n",
        "# Encode the 'Region' column using one-hot encoding (if it exists)\n",
        "if 'Region' in customer_profile.columns:\n",
        "    region_dummies = pd.get_dummies(customer_profile['Region'], prefix='Region')\n",
        "    customer_profile = pd.concat([customer_profile, region_dummies], axis=1)\n",
        "    features.extend(region_dummies.columns)\n",
        "\n",
        "# Normalize features\n",
        "scaler = MinMaxScaler()\n",
        "customer_profile[features] = scaler.fit_transform(customer_profile[features])\n",
        "\n",
        "# Step 3: Calculate Similarity\n",
        "# Compute pairwise cosine similarity\n",
        "similarity_matrix = cosine_similarity(customer_profile[features])\n",
        "\n",
        "# Create a DataFrame for similarity\n",
        "similarity_df = pd.DataFrame(similarity_matrix, index=customer_profile['CustomerID'], columns=customer_profile['CustomerID'])\n",
        "\n",
        "# Step 4: Generate Lookalike Recommendations\n",
        "lookalike_results = []\n",
        "for customer_id in customer_profile['CustomerID']:\n",
        "    # Get similarity scores for the given customer\n",
        "    similar_customers = similarity_df[customer_id].sort_values(ascending=False)\n",
        "    # Exclude the customer themselves (similarity with self = 1)\n",
        "    similar_customers = similar_customers.drop(customer_id).head(3)\n",
        "    # Append top 3 lookalikes\n",
        "    lookalike_results.append({\n",
        "        'CustomerID': customer_id,\n",
        "        'Lookalike1': similar_customers.index[0],\n",
        "        'Score1': similar_customers.iloc[0],\n",
        "        'Lookalike2': similar_customers.index[1],\n",
        "        'Score2': similar_customers.iloc[1],\n",
        "        'Lookalike3': similar_customers.index[2],\n",
        "        'Score3': similar_customers.iloc[2],\n",
        "    })\n",
        "\n",
        "# Convert results to a DataFrame\n",
        "lookalike_df = pd.DataFrame(lookalike_results)\n",
        "\n",
        "# Filter for customers C0001 to C0020\n",
        "filtered_lookalikes = lookalike_df[lookalike_df['CustomerID'].str.startswith('C00') & (lookalike_df['CustomerID'].str[1:].astype(int) <= 20)]\n",
        "\n",
        "# Save to CSV\n",
        "filtered_lookalikes.to_csv(\"Kavin_T_Lookalike.csv\", index=False)\n",
        "\n",
        "print(\"Lookalike recommendations saved to Kavin_T_Lookalike.csv.\")\n"
      ]
    }
  ]
}